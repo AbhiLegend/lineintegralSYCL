{
 "cells": [
  {
   "cell_type": "markdown",
   "id": "592ed12c-cd3a-487d-ba5d-33b820f5d400",
   "metadata": {},
   "source": [
    "## Calculate the volume integral of a given 3D permeability field using SYCL parallel computing"
   ]
  },
  {
   "cell_type": "markdown",
   "id": "540135dd-949a-457a-b825-ca2be8ce1cfa",
   "metadata": {},
   "source": [
    "The problem statement solved by the given code is to calculate the volume integral of a given 3D permeability field using SYCL parallel computing.\n",
    "\n",
    "The code first initializes a 3D permeability field of size NX x NY x NZ with values 1, 2, 3, ..., NXNYNZ using the std::iota() function. Then, it creates SYCL buffers for the permeability field and a result variable.\n",
    "\n",
    "Next, the code submits a SYCL kernel using a parallel_for loop that calculates the volume integral of the permeability field. The kernel multiplies all the values in the permeability field together and stores the result in the result variable.\n",
    "\n",
    "The code runs the kernel on a chosen device, either a CPU or GPU, depending on the selector that is uncommented. The device name is printed to the console to confirm which device is being used. After the kernel completes, the result of the volume integral is printed to the console.\n",
    "\n",
    "Note that the volume integral of a 3D field is calculated by taking the product of all the values in the field. In this case, the permeability field represents the permeability of a porous medium, and the volume integral is a measure of the overall permeability of the medium.\n",
    "\n",
    "\n",
    "\n",
    "\n",
    "\n"
   ]
  },
  {
   "cell_type": "code",
   "execution_count": 1,
   "id": "556a47d0-8075-45cb-bd73-f4743473a33d",
   "metadata": {},
   "outputs": [
    {
     "name": "stdout",
     "output_type": "stream",
     "text": [
      "Overwriting lab/simple1.cpp\n"
     ]
    }
   ],
   "source": [
    "%%writefile lab/simple1.cpp\n",
    "#include <CL/sycl.hpp>\n",
    "#include <iostream>\n",
    "#include <numeric>\n",
    "\n",
    "using namespace cl::sycl;\n",
    "\n",
    "int main(int argc, char** argv) {\n",
    "\n",
    "  constexpr size_t NX = 10;\n",
    "  constexpr size_t NY = 10;\n",
    "  constexpr size_t NZ = 10;\n",
    "\n",
    "  std::vector<float> perm(NX*NY*NZ);\n",
    "  std::iota(perm.begin(), perm.end(), 1.0f); // populate with values 1, 2, 3, ..., NX*NY*NZ\n",
    "\n",
    "  float result = 1.0f;\n",
    "\n",
    "  try {\n",
    "    //queue q{gpu_selector_v<cl::sycl::gpu_selector>{}};\n",
    "    //queue q{sycl::gpu_selector_v{}};\n",
    "     // queue q{sycl::gpu_selector_v<cl::sycl::gpu_selector>{}};\n",
    "      queue q{sycl::cpu_selector{}};\n",
    "    std::cout << \"Running on \"\n",
    "              << q.get_device().get_info<info::device::name>()\n",
    "              << std::endl;\n",
    "\n",
    "    buffer<float, 1> perm_buf(perm.data(), range<1>(NX*NY*NZ));\n",
    "    buffer<float, 1> result_buf(&result, range<1>(1));\n",
    "\n",
    "    q.submit([&](handler& cgh) {\n",
    "      auto perm_acc = perm_buf.get_access<access::mode::read>(cgh);\n",
    "      auto result_acc = result_buf.get_access<access::mode::write>(cgh);\n",
    "\n",
    "      cgh.parallel_for<class perm_volume_integral>(\n",
    "        range<1>(NX*NY*NZ),\n",
    "        [=](id<1> idx) {\n",
    "          result_acc[0] *= perm_acc[idx];\n",
    "        }\n",
    "      );\n",
    "    });\n",
    "\n",
    "    std::cout << \"Perm volume integral: \" << result << std::endl;\n",
    "\n",
    "  } catch (sycl::exception& e) {\n",
    "    std::cerr << \"SYCL exception caught: \" << e.what() << std::endl;\n",
    "    return 1;\n",
    "  }\n",
    "\n",
    "  return 0;\n",
    "}"
   ]
  },
  {
   "cell_type": "code",
   "execution_count": 2,
   "id": "06c0b31d-0988-4542-96c2-b9fcf0da12eb",
   "metadata": {},
   "outputs": [
    {
     "name": "stdout",
     "output_type": "stream",
     "text": [
      "Job has been submitted to Intel(R) DevCloud and will execute soon.\n",
      "\n",
      "Job ID                    Name             User            Time Use S Queue\n",
      "------------------------- ---------------- --------------- -------- - -----\n",
      "2260557.v-qsvr-1           ...ub-singleuser u182761         00:00:10 R jupyterhub     \n",
      "2260574.v-qsvr-1           run_simple.sh    u182761         00:08:02 R batch          \n",
      "2260582.v-qsvr-1           run_simple1.sh   u182761                0 Q batch          \n",
      "\n",
      "Waiting for Output █████████████████████ Done⬇\n",
      "\n",
      "########################################################################\n",
      "#      Date:           Wed 22 Mar 2023 11:49:29 PM PDT\n",
      "#    Job ID:           2260582.v-qsvr-1.aidevcloud\n",
      "#      User:           u182761\n",
      "# Resources:           cput=75:00:00,neednodes=1:gpu:ppn=2,nodes=1:gpu:ppn=2,walltime=06:00:00\n",
      "########################################################################\n",
      "\n",
      "## u182761 is compiling DPCPP_Essentials Module1 -- oneAPI Techgig example - 1 of 1 simple1.cpp\n",
      "Running on 11th Gen Intel(R) Core(TM) i9-11900KB @ 3.30GHz\n",
      "Perm volume integral: 1\n",
      "\n",
      "########################################################################\n",
      "# End of output for job 2260582.v-qsvr-1.aidevcloud\n",
      "# Date: Wed 22 Mar 2023 11:49:40 PM PDT\n",
      "########################################################################\n",
      "\n",
      "icpx: warning: use of 'dpcpp' is deprecated and will be removed in a future release. Use 'icpx -fsycl' [-Wdeprecated]\n",
      "lab/simple1.cpp:22:21: warning: 'cpu_selector' is deprecated: Use the callable sycl::cpu_selector_v instead. [-Wdeprecated-declarations]\n",
      "      queue q{sycl::cpu_selector{}};\n",
      "                    ^\n",
      "/glob/development-tools/versions/oneapi/2023.0.1/oneapi/compiler/2023.0.0/linux/bin-llvm/../include/sycl/device_selector.hpp:74:21: note: 'cpu_selector' has been explicitly marked deprecated here\n",
      "class __SYCL_EXPORT __SYCL2020_DEPRECATED(\n",
      "                    ^\n",
      "/glob/development-tools/versions/oneapi/2023.0.1/oneapi/compiler/2023.0.0/linux/bin-llvm/../include/sycl/detail/defines_elementary.hpp:52:40: note: expanded from macro '__SYCL2020_DEPRECATED'\n",
      "#define __SYCL2020_DEPRECATED(message) __SYCL_DEPRECATED(message)\n",
      "                                       ^\n",
      "/glob/development-tools/versions/oneapi/2023.0.1/oneapi/compiler/2023.0.0/linux/bin-llvm/../include/sycl/detail/defines_elementary.hpp:43:38: note: expanded from macro '__SYCL_DEPRECATED'\n",
      "#define __SYCL_DEPRECATED(message) [[deprecated(message)]]\n",
      "                                     ^\n",
      "1 warning generated.\n",
      "lab/simple1.cpp:22:21: warning: 'cpu_selector' is deprecated: Use the callable sycl::cpu_selector_v instead. [-Wdeprecated-declarations]\n",
      "      queue q{sycl::cpu_selector{}};\n",
      "                    ^\n",
      "/glob/development-tools/versions/oneapi/2023.0.1/oneapi/compiler/2023.0.0/linux/bin-llvm/../include/sycl/device_selector.hpp:74:21: note: 'cpu_selector' has been explicitly marked deprecated here\n",
      "class __SYCL_EXPORT __SYCL2020_DEPRECATED(\n",
      "                    ^\n",
      "/glob/development-tools/versions/oneapi/2023.0.1/oneapi/compiler/2023.0.0/linux/bin-llvm/../include/sycl/detail/defines_elementary.hpp:52:40: note: expanded from macro '__SYCL2020_DEPRECATED'\n",
      "#define __SYCL2020_DEPRECATED(message) __SYCL_DEPRECATED(message)\n",
      "                                       ^\n",
      "/glob/development-tools/versions/oneapi/2023.0.1/oneapi/compiler/2023.0.0/linux/bin-llvm/../include/sycl/detail/defines_elementary.hpp:43:38: note: expanded from macro '__SYCL_DEPRECATED'\n",
      "#define __SYCL_DEPRECATED(message) [[deprecated(message)]]\n",
      "                                     ^\n",
      "1 warning generated.\n",
      "Job Completed in 21 seconds.\n"
     ]
    }
   ],
   "source": [
    "! chmod 755 q; chmod 755 run_simple1.sh;if [ -x \"$(command -v qsub)\" ]; then ./q run_simple1.sh; else ./run_simple1.sh; fi"
   ]
  },
  {
   "cell_type": "code",
   "execution_count": null,
   "id": "e5a24874-2b07-4b8a-a712-d4c5fd54d55e",
   "metadata": {},
   "outputs": [],
   "source": []
  }
 ],
 "metadata": {
  "kernelspec": {
   "display_name": "Python 3 (Intel® oneAPI 2023.0)",
   "language": "python",
   "name": "c009-intel_distribution_of_python_3_oneapi-beta05-python"
  },
  "language_info": {
   "codemirror_mode": {
    "name": "ipython",
    "version": 3
   },
   "file_extension": ".py",
   "mimetype": "text/x-python",
   "name": "python",
   "nbconvert_exporter": "python",
   "pygments_lexer": "ipython3",
   "version": "3.9.15"
  }
 },
 "nbformat": 4,
 "nbformat_minor": 5
}
